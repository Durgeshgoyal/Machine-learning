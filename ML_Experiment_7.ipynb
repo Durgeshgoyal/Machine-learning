{
  "nbformat": 4,
  "nbformat_minor": 0,
  "metadata": {
    "colab": {
      "provenance": [],
      "authorship_tag": "ABX9TyM5AUSmM5chPyVSiejEgB8f",
      "include_colab_link": true
    },
    "kernelspec": {
      "name": "python3",
      "display_name": "Python 3"
    },
    "language_info": {
      "name": "python"
    }
  },
  "cells": [
    {
      "cell_type": "markdown",
      "metadata": {
        "id": "view-in-github",
        "colab_type": "text"
      },
      "source": [
        "<a href=\"https://colab.research.google.com/github/Durgeshgoyal/Machine-learning/blob/main/ML_Experiment_7.ipynb\" target=\"_parent\"><img src=\"https://colab.research.google.com/assets/colab-badge.svg\" alt=\"Open In Colab\"/></a>"
      ]
    },
    {
      "cell_type": "code",
      "execution_count": 1,
      "metadata": {
        "colab": {
          "base_uri": "https://localhost:8080/"
        },
        "id": "BYNS26hao7Fi",
        "outputId": "483d85bb-b003-48ca-fb9f-f6a2417d77af"
      },
      "outputs": [
        {
          "output_type": "stream",
          "name": "stdout",
          "text": [
            "Downloading data from https://storage.googleapis.com/tensorflow/tf-keras-datasets/mnist.npz\n",
            "11490434/11490434 [==============================] - 0s 0us/step\n"
          ]
        }
      ],
      "source": [
        "from keras.datasets import mnist\n",
        "(train_images, train_labels), (test_images, test_labels) = mnist.load_data()\n"
      ]
    },
    {
      "cell_type": "code",
      "source": [
        "train_images.shape\n",
        "len(train_labels)\n",
        "train_labels\n",
        "test_images.shape\n",
        "len(test_labels)\n",
        "test_labels\n"
      ],
      "metadata": {
        "colab": {
          "base_uri": "https://localhost:8080/"
        },
        "id": "3xGP97iipFJs",
        "outputId": "17b5b456-57d7-4e3a-9775-88cd1d02d182"
      },
      "execution_count": 2,
      "outputs": [
        {
          "output_type": "execute_result",
          "data": {
            "text/plain": [
              "array([7, 2, 1, ..., 4, 5, 6], dtype=uint8)"
            ]
          },
          "metadata": {},
          "execution_count": 2
        }
      ]
    },
    {
      "cell_type": "code",
      "source": [
        "\n",
        "from keras import models\n",
        "from keras import layers\n",
        "network = models.Sequential()\n",
        "# Dense(32) is a fully-connected layer with 32 hidden units.\n",
        "# in the first layer, you must specify the expected input data shape :\n",
        "# here, 28 X 28=784 -dimensional vectors.\n",
        "network.add(layers.Dense(32, activation='sigmoid', input_shape=(28 * 28, )))\n",
        "network.add(layers.Dense(8, activation='sigmoid'))\n",
        "network.add(layers.Dense(10, activation='softmax'))\n",
        "network.summary()\n",
        "from google.colab import drive\n",
        "drive.mount('/content/drive')\n"
      ],
      "metadata": {
        "colab": {
          "base_uri": "https://localhost:8080/"
        },
        "id": "r1SVNiUrpOJ3",
        "outputId": "cd10bdd9-7f64-4dea-a3ba-05a27ca86486"
      },
      "execution_count": 5,
      "outputs": [
        {
          "output_type": "stream",
          "name": "stdout",
          "text": [
            "Model: \"sequential_2\"\n",
            "_________________________________________________________________\n",
            " Layer (type)                Output Shape              Param #   \n",
            "=================================================================\n",
            " dense_6 (Dense)             (None, 32)                25120     \n",
            "                                                                 \n",
            " dense_7 (Dense)             (None, 8)                 264       \n",
            "                                                                 \n",
            " dense_8 (Dense)             (None, 10)                90        \n",
            "                                                                 \n",
            "=================================================================\n",
            "Total params: 25,474\n",
            "Trainable params: 25,474\n",
            "Non-trainable params: 0\n",
            "_________________________________________________________________\n",
            "Mounted at /content/drive\n"
          ]
        }
      ]
    },
    {
      "cell_type": "code",
      "source": [
        "network.compile(optimizer='sgd',\n",
        "                loss='categorical_crossentropy',\n",
        "                metrics=['accuracy'])\n"
      ],
      "metadata": {
        "id": "vzxZT1p_pmR3"
      },
      "execution_count": 6,
      "outputs": []
    },
    {
      "cell_type": "code",
      "source": [
        "\n",
        "train_images = train_images.reshape((60000, 28 * 28))\n",
        "train_images = train_images.astype('float32') / 255.\n",
        "test_images = test_images.reshape((10000, 28 * 28))\n",
        "test_images = test_images.astype('float32') / 255."
      ],
      "metadata": {
        "id": "Qz9jEhIHptmC"
      },
      "execution_count": 7,
      "outputs": []
    },
    {
      "cell_type": "code",
      "source": [
        "from keras.utils import to_categorical\n",
        "train_labels = to_categorical(train_labels)\n",
        "train_labels\n",
        "test_labels = to_categorical(test_labels)\n",
        "test_labels\n"
      ],
      "metadata": {
        "colab": {
          "base_uri": "https://localhost:8080/"
        },
        "id": "qsmu-w33px0x",
        "outputId": "4a310a46-ba0b-4ebe-cfcc-f159b2cc8bdd"
      },
      "execution_count": 8,
      "outputs": [
        {
          "output_type": "execute_result",
          "data": {
            "text/plain": [
              "array([[0., 0., 0., ..., 1., 0., 0.],\n",
              "       [0., 0., 1., ..., 0., 0., 0.],\n",
              "       [0., 1., 0., ..., 0., 0., 0.],\n",
              "       ...,\n",
              "       [0., 0., 0., ..., 0., 0., 0.],\n",
              "       [0., 0., 0., ..., 0., 0., 0.],\n",
              "       [0., 0., 0., ..., 0., 0., 0.]], dtype=float32)"
            ]
          },
          "metadata": {},
          "execution_count": 8
        }
      ]
    },
    {
      "cell_type": "code",
      "source": [
        "network.fit(train_images, train_labels, epochs=160, batch_size=512)"
      ],
      "metadata": {
        "colab": {
          "base_uri": "https://localhost:8080/"
        },
        "id": "OxRmogYsp5KB",
        "outputId": "ed6a4282-b898-461a-f829-f382cbf1c568"
      },
      "execution_count": 9,
      "outputs": [
        {
          "output_type": "stream",
          "name": "stdout",
          "text": [
            "Epoch 1/160\n",
            "118/118 [==============================] - 2s 9ms/step - loss: 2.3244 - accuracy: 0.1042\n",
            "Epoch 2/160\n",
            "118/118 [==============================] - 1s 7ms/step - loss: 2.3083 - accuracy: 0.1033\n",
            "Epoch 3/160\n",
            "118/118 [==============================] - 1s 8ms/step - loss: 2.2991 - accuracy: 0.1019\n",
            "Epoch 4/160\n",
            "118/118 [==============================] - 1s 8ms/step - loss: 2.2926 - accuracy: 0.0922\n",
            "Epoch 5/160\n",
            "118/118 [==============================] - 1s 7ms/step - loss: 2.2870 - accuracy: 0.1050\n",
            "Epoch 6/160\n",
            "118/118 [==============================] - 1s 6ms/step - loss: 2.2817 - accuracy: 0.1421\n",
            "Epoch 7/160\n",
            "118/118 [==============================] - 1s 4ms/step - loss: 2.2765 - accuracy: 0.1595\n",
            "Epoch 8/160\n",
            "118/118 [==============================] - 1s 5ms/step - loss: 2.2711 - accuracy: 0.1724\n",
            "Epoch 9/160\n",
            "118/118 [==============================] - 1s 5ms/step - loss: 2.2655 - accuracy: 0.1831\n",
            "Epoch 10/160\n",
            "118/118 [==============================] - 1s 5ms/step - loss: 2.2597 - accuracy: 0.1969\n",
            "Epoch 11/160\n",
            "118/118 [==============================] - 1s 5ms/step - loss: 2.2536 - accuracy: 0.2096\n",
            "Epoch 12/160\n",
            "118/118 [==============================] - 1s 5ms/step - loss: 2.2471 - accuracy: 0.2220\n",
            "Epoch 13/160\n",
            "118/118 [==============================] - 1s 5ms/step - loss: 2.2402 - accuracy: 0.2297\n",
            "Epoch 14/160\n",
            "118/118 [==============================] - 1s 5ms/step - loss: 2.2329 - accuracy: 0.2412\n",
            "Epoch 15/160\n",
            "118/118 [==============================] - 1s 5ms/step - loss: 2.2252 - accuracy: 0.2522\n",
            "Epoch 16/160\n",
            "118/118 [==============================] - 1s 5ms/step - loss: 2.2169 - accuracy: 0.2668\n",
            "Epoch 17/160\n",
            "118/118 [==============================] - 1s 5ms/step - loss: 2.2081 - accuracy: 0.2783\n",
            "Epoch 18/160\n",
            "118/118 [==============================] - 1s 5ms/step - loss: 2.1987 - accuracy: 0.2922\n",
            "Epoch 19/160\n",
            "118/118 [==============================] - 1s 5ms/step - loss: 2.1887 - accuracy: 0.3070\n",
            "Epoch 20/160\n",
            "118/118 [==============================] - 1s 5ms/step - loss: 2.1780 - accuracy: 0.3185\n",
            "Epoch 21/160\n",
            "118/118 [==============================] - 1s 5ms/step - loss: 2.1666 - accuracy: 0.3306\n",
            "Epoch 22/160\n",
            "118/118 [==============================] - 1s 5ms/step - loss: 2.1546 - accuracy: 0.3351\n",
            "Epoch 23/160\n",
            "118/118 [==============================] - 1s 5ms/step - loss: 2.1419 - accuracy: 0.3467\n",
            "Epoch 24/160\n",
            "118/118 [==============================] - 1s 6ms/step - loss: 2.1286 - accuracy: 0.3510\n",
            "Epoch 25/160\n",
            "118/118 [==============================] - 1s 7ms/step - loss: 2.1146 - accuracy: 0.3626\n",
            "Epoch 26/160\n",
            "118/118 [==============================] - 1s 7ms/step - loss: 2.1000 - accuracy: 0.3694\n",
            "Epoch 27/160\n",
            "118/118 [==============================] - 1s 7ms/step - loss: 2.0849 - accuracy: 0.3739\n",
            "Epoch 28/160\n",
            "118/118 [==============================] - 1s 11ms/step - loss: 2.0693 - accuracy: 0.3774\n",
            "Epoch 29/160\n",
            "118/118 [==============================] - 1s 9ms/step - loss: 2.0533 - accuracy: 0.3871\n",
            "Epoch 30/160\n",
            "118/118 [==============================] - 1s 6ms/step - loss: 2.0370 - accuracy: 0.3919\n",
            "Epoch 31/160\n",
            "118/118 [==============================] - 1s 5ms/step - loss: 2.0204 - accuracy: 0.3992\n",
            "Epoch 32/160\n",
            "118/118 [==============================] - 1s 5ms/step - loss: 2.0035 - accuracy: 0.4081\n",
            "Epoch 33/160\n",
            "118/118 [==============================] - 1s 5ms/step - loss: 1.9865 - accuracy: 0.4151\n",
            "Epoch 34/160\n",
            "118/118 [==============================] - 1s 5ms/step - loss: 1.9694 - accuracy: 0.4218\n",
            "Epoch 35/160\n",
            "118/118 [==============================] - 1s 5ms/step - loss: 1.9522 - accuracy: 0.4289\n",
            "Epoch 36/160\n",
            "118/118 [==============================] - 1s 5ms/step - loss: 1.9349 - accuracy: 0.4367\n",
            "Epoch 37/160\n",
            "118/118 [==============================] - 1s 5ms/step - loss: 1.9176 - accuracy: 0.4451\n",
            "Epoch 38/160\n",
            "118/118 [==============================] - 1s 5ms/step - loss: 1.9002 - accuracy: 0.4551\n",
            "Epoch 39/160\n",
            "118/118 [==============================] - 1s 5ms/step - loss: 1.8829 - accuracy: 0.4632\n",
            "Epoch 40/160\n",
            "118/118 [==============================] - 1s 5ms/step - loss: 1.8655 - accuracy: 0.4717\n",
            "Epoch 41/160\n",
            "118/118 [==============================] - 1s 5ms/step - loss: 1.8481 - accuracy: 0.4842\n",
            "Epoch 42/160\n",
            "118/118 [==============================] - 1s 5ms/step - loss: 1.8306 - accuracy: 0.4944\n",
            "Epoch 43/160\n",
            "118/118 [==============================] - 1s 5ms/step - loss: 1.8131 - accuracy: 0.5029\n",
            "Epoch 44/160\n",
            "118/118 [==============================] - 1s 5ms/step - loss: 1.7956 - accuracy: 0.5152\n",
            "Epoch 45/160\n",
            "118/118 [==============================] - 1s 5ms/step - loss: 1.7780 - accuracy: 0.5236\n",
            "Epoch 46/160\n",
            "118/118 [==============================] - 1s 7ms/step - loss: 1.7603 - accuracy: 0.5373\n",
            "Epoch 47/160\n",
            "118/118 [==============================] - 1s 7ms/step - loss: 1.7425 - accuracy: 0.5462\n",
            "Epoch 48/160\n",
            "118/118 [==============================] - 1s 7ms/step - loss: 1.7247 - accuracy: 0.5599\n",
            "Epoch 49/160\n",
            "118/118 [==============================] - 1s 7ms/step - loss: 1.7068 - accuracy: 0.5688\n",
            "Epoch 50/160\n",
            "118/118 [==============================] - 1s 8ms/step - loss: 1.6888 - accuracy: 0.5792\n",
            "Epoch 51/160\n",
            "118/118 [==============================] - 1s 6ms/step - loss: 1.6707 - accuracy: 0.5865\n",
            "Epoch 52/160\n",
            "118/118 [==============================] - 1s 5ms/step - loss: 1.6526 - accuracy: 0.5965\n",
            "Epoch 53/160\n",
            "118/118 [==============================] - 1s 5ms/step - loss: 1.6344 - accuracy: 0.6049\n",
            "Epoch 54/160\n",
            "118/118 [==============================] - 1s 5ms/step - loss: 1.6162 - accuracy: 0.6128\n",
            "Epoch 55/160\n",
            "118/118 [==============================] - 1s 5ms/step - loss: 1.5980 - accuracy: 0.6192\n",
            "Epoch 56/160\n",
            "118/118 [==============================] - 1s 5ms/step - loss: 1.5799 - accuracy: 0.6270\n",
            "Epoch 57/160\n",
            "118/118 [==============================] - 1s 5ms/step - loss: 1.5618 - accuracy: 0.6324\n",
            "Epoch 58/160\n",
            "118/118 [==============================] - 1s 5ms/step - loss: 1.5437 - accuracy: 0.6385\n",
            "Epoch 59/160\n",
            "118/118 [==============================] - 1s 5ms/step - loss: 1.5258 - accuracy: 0.6433\n",
            "Epoch 60/160\n",
            "118/118 [==============================] - 1s 5ms/step - loss: 1.5080 - accuracy: 0.6493\n",
            "Epoch 61/160\n",
            "118/118 [==============================] - 1s 5ms/step - loss: 1.4903 - accuracy: 0.6533\n",
            "Epoch 62/160\n",
            "118/118 [==============================] - 1s 5ms/step - loss: 1.4729 - accuracy: 0.6579\n",
            "Epoch 63/160\n",
            "118/118 [==============================] - 1s 5ms/step - loss: 1.4556 - accuracy: 0.6616\n",
            "Epoch 64/160\n",
            "118/118 [==============================] - 1s 5ms/step - loss: 1.4385 - accuracy: 0.6649\n",
            "Epoch 65/160\n",
            "118/118 [==============================] - 1s 5ms/step - loss: 1.4217 - accuracy: 0.6677\n",
            "Epoch 66/160\n",
            "118/118 [==============================] - 1s 5ms/step - loss: 1.4051 - accuracy: 0.6710\n",
            "Epoch 67/160\n",
            "118/118 [==============================] - 1s 5ms/step - loss: 1.3888 - accuracy: 0.6747\n",
            "Epoch 68/160\n",
            "118/118 [==============================] - 1s 5ms/step - loss: 1.3727 - accuracy: 0.6777\n",
            "Epoch 69/160\n",
            "118/118 [==============================] - 1s 7ms/step - loss: 1.3569 - accuracy: 0.6806\n",
            "Epoch 70/160\n",
            "118/118 [==============================] - 1s 7ms/step - loss: 1.3414 - accuracy: 0.6843\n",
            "Epoch 71/160\n",
            "118/118 [==============================] - 1s 7ms/step - loss: 1.3261 - accuracy: 0.6868\n",
            "Epoch 72/160\n",
            "118/118 [==============================] - 1s 7ms/step - loss: 1.3111 - accuracy: 0.6899\n",
            "Epoch 73/160\n",
            "118/118 [==============================] - 1s 8ms/step - loss: 1.2965 - accuracy: 0.6925\n",
            "Epoch 74/160\n",
            "118/118 [==============================] - 1s 7ms/step - loss: 1.2820 - accuracy: 0.6957\n",
            "Epoch 75/160\n",
            "118/118 [==============================] - 1s 5ms/step - loss: 1.2679 - accuracy: 0.6992\n",
            "Epoch 76/160\n",
            "118/118 [==============================] - 1s 5ms/step - loss: 1.2541 - accuracy: 0.7016\n",
            "Epoch 77/160\n",
            "118/118 [==============================] - 1s 5ms/step - loss: 1.2405 - accuracy: 0.7043\n",
            "Epoch 78/160\n",
            "118/118 [==============================] - 1s 5ms/step - loss: 1.2272 - accuracy: 0.7068\n",
            "Epoch 79/160\n",
            "118/118 [==============================] - 1s 5ms/step - loss: 1.2142 - accuracy: 0.7099\n",
            "Epoch 80/160\n",
            "118/118 [==============================] - 1s 5ms/step - loss: 1.2014 - accuracy: 0.7121\n",
            "Epoch 81/160\n",
            "118/118 [==============================] - 1s 5ms/step - loss: 1.1889 - accuracy: 0.7146\n",
            "Epoch 82/160\n",
            "118/118 [==============================] - 1s 5ms/step - loss: 1.1766 - accuracy: 0.7172\n",
            "Epoch 83/160\n",
            "118/118 [==============================] - 1s 5ms/step - loss: 1.1646 - accuracy: 0.7194\n",
            "Epoch 84/160\n",
            "118/118 [==============================] - 1s 5ms/step - loss: 1.1528 - accuracy: 0.7217\n",
            "Epoch 85/160\n",
            "118/118 [==============================] - 1s 5ms/step - loss: 1.1413 - accuracy: 0.7243\n",
            "Epoch 86/160\n",
            "118/118 [==============================] - 1s 5ms/step - loss: 1.1300 - accuracy: 0.7263\n",
            "Epoch 87/160\n",
            "118/118 [==============================] - 1s 5ms/step - loss: 1.1189 - accuracy: 0.7283\n",
            "Epoch 88/160\n",
            "118/118 [==============================] - 1s 7ms/step - loss: 1.1081 - accuracy: 0.7305\n",
            "Epoch 89/160\n",
            "118/118 [==============================] - 1s 5ms/step - loss: 1.0974 - accuracy: 0.7326\n",
            "Epoch 90/160\n",
            "118/118 [==============================] - 1s 5ms/step - loss: 1.0870 - accuracy: 0.7351\n",
            "Epoch 91/160\n",
            "118/118 [==============================] - 1s 7ms/step - loss: 1.0768 - accuracy: 0.7369\n",
            "Epoch 92/160\n",
            "118/118 [==============================] - 1s 8ms/step - loss: 1.0667 - accuracy: 0.7393\n",
            "Epoch 93/160\n",
            "118/118 [==============================] - 1s 7ms/step - loss: 1.0569 - accuracy: 0.7419\n",
            "Epoch 94/160\n",
            "118/118 [==============================] - 1s 8ms/step - loss: 1.0472 - accuracy: 0.7430\n",
            "Epoch 95/160\n",
            "118/118 [==============================] - 1s 8ms/step - loss: 1.0378 - accuracy: 0.7450\n",
            "Epoch 96/160\n",
            "118/118 [==============================] - 1s 6ms/step - loss: 1.0285 - accuracy: 0.7471\n",
            "Epoch 97/160\n",
            "118/118 [==============================] - 1s 5ms/step - loss: 1.0193 - accuracy: 0.7495\n",
            "Epoch 98/160\n",
            "118/118 [==============================] - 1s 5ms/step - loss: 1.0104 - accuracy: 0.7515\n",
            "Epoch 99/160\n",
            "118/118 [==============================] - 1s 5ms/step - loss: 1.0016 - accuracy: 0.7539\n",
            "Epoch 100/160\n",
            "118/118 [==============================] - 1s 5ms/step - loss: 0.9930 - accuracy: 0.7558\n",
            "Epoch 101/160\n",
            "118/118 [==============================] - 1s 5ms/step - loss: 0.9845 - accuracy: 0.7578\n",
            "Epoch 102/160\n",
            "118/118 [==============================] - 1s 5ms/step - loss: 0.9762 - accuracy: 0.7604\n",
            "Epoch 103/160\n",
            "118/118 [==============================] - 1s 5ms/step - loss: 0.9680 - accuracy: 0.7626\n",
            "Epoch 104/160\n",
            "118/118 [==============================] - 1s 5ms/step - loss: 0.9599 - accuracy: 0.7645\n",
            "Epoch 105/160\n",
            "118/118 [==============================] - 1s 5ms/step - loss: 0.9520 - accuracy: 0.7662\n",
            "Epoch 106/160\n",
            "118/118 [==============================] - 1s 5ms/step - loss: 0.9442 - accuracy: 0.7679\n",
            "Epoch 107/160\n",
            "118/118 [==============================] - 1s 5ms/step - loss: 0.9366 - accuracy: 0.7696\n",
            "Epoch 108/160\n",
            "118/118 [==============================] - 1s 5ms/step - loss: 0.9290 - accuracy: 0.7715\n",
            "Epoch 109/160\n",
            "118/118 [==============================] - 1s 5ms/step - loss: 0.9216 - accuracy: 0.7732\n",
            "Epoch 110/160\n",
            "118/118 [==============================] - 1s 5ms/step - loss: 0.9143 - accuracy: 0.7754\n",
            "Epoch 111/160\n",
            "118/118 [==============================] - 1s 5ms/step - loss: 0.9071 - accuracy: 0.7772\n",
            "Epoch 112/160\n",
            "118/118 [==============================] - 1s 5ms/step - loss: 0.9001 - accuracy: 0.7789\n",
            "Epoch 113/160\n",
            "118/118 [==============================] - 1s 5ms/step - loss: 0.8931 - accuracy: 0.7807\n",
            "Epoch 114/160\n",
            "118/118 [==============================] - 1s 7ms/step - loss: 0.8863 - accuracy: 0.7826\n",
            "Epoch 115/160\n",
            "118/118 [==============================] - 1s 8ms/step - loss: 0.8795 - accuracy: 0.7842\n",
            "Epoch 116/160\n",
            "118/118 [==============================] - 1s 7ms/step - loss: 0.8728 - accuracy: 0.7856\n",
            "Epoch 117/160\n",
            "118/118 [==============================] - 1s 7ms/step - loss: 0.8663 - accuracy: 0.7871\n",
            "Epoch 118/160\n",
            "118/118 [==============================] - 1s 7ms/step - loss: 0.8598 - accuracy: 0.7885\n",
            "Epoch 119/160\n",
            "118/118 [==============================] - 1s 7ms/step - loss: 0.8535 - accuracy: 0.7901\n",
            "Epoch 120/160\n",
            "118/118 [==============================] - 1s 5ms/step - loss: 0.8472 - accuracy: 0.7918\n",
            "Epoch 121/160\n",
            "118/118 [==============================] - 1s 5ms/step - loss: 0.8410 - accuracy: 0.7934\n",
            "Epoch 122/160\n",
            "118/118 [==============================] - 1s 5ms/step - loss: 0.8349 - accuracy: 0.7945\n",
            "Epoch 123/160\n",
            "118/118 [==============================] - 1s 5ms/step - loss: 0.8289 - accuracy: 0.7958\n",
            "Epoch 124/160\n",
            "118/118 [==============================] - 1s 5ms/step - loss: 0.8230 - accuracy: 0.7974\n",
            "Epoch 125/160\n",
            "118/118 [==============================] - 1s 5ms/step - loss: 0.8172 - accuracy: 0.7989\n",
            "Epoch 126/160\n",
            "118/118 [==============================] - 1s 5ms/step - loss: 0.8115 - accuracy: 0.8004\n",
            "Epoch 127/160\n",
            "118/118 [==============================] - 1s 5ms/step - loss: 0.8058 - accuracy: 0.8018\n",
            "Epoch 128/160\n",
            "118/118 [==============================] - 1s 5ms/step - loss: 0.8003 - accuracy: 0.8030\n",
            "Epoch 129/160\n",
            "118/118 [==============================] - 1s 5ms/step - loss: 0.7948 - accuracy: 0.8047\n",
            "Epoch 130/160\n",
            "118/118 [==============================] - 1s 5ms/step - loss: 0.7894 - accuracy: 0.8061\n",
            "Epoch 131/160\n",
            "118/118 [==============================] - 1s 5ms/step - loss: 0.7840 - accuracy: 0.8074\n",
            "Epoch 132/160\n",
            "118/118 [==============================] - 1s 5ms/step - loss: 0.7788 - accuracy: 0.8086\n",
            "Epoch 133/160\n",
            "118/118 [==============================] - 1s 5ms/step - loss: 0.7736 - accuracy: 0.8098\n",
            "Epoch 134/160\n",
            "118/118 [==============================] - 1s 5ms/step - loss: 0.7685 - accuracy: 0.8109\n",
            "Epoch 135/160\n",
            "118/118 [==============================] - 1s 5ms/step - loss: 0.7635 - accuracy: 0.8121\n",
            "Epoch 136/160\n",
            "118/118 [==============================] - 1s 5ms/step - loss: 0.7586 - accuracy: 0.8135\n",
            "Epoch 137/160\n",
            "118/118 [==============================] - 1s 7ms/step - loss: 0.7537 - accuracy: 0.8147\n",
            "Epoch 138/160\n",
            "118/118 [==============================] - 1s 7ms/step - loss: 0.7489 - accuracy: 0.8163\n",
            "Epoch 139/160\n",
            "118/118 [==============================] - 1s 8ms/step - loss: 0.7442 - accuracy: 0.8171\n",
            "Epoch 140/160\n",
            "118/118 [==============================] - 1s 7ms/step - loss: 0.7395 - accuracy: 0.8182\n",
            "Epoch 141/160\n",
            "118/118 [==============================] - 1s 8ms/step - loss: 0.7349 - accuracy: 0.8190\n",
            "Epoch 142/160\n",
            "118/118 [==============================] - 1s 7ms/step - loss: 0.7304 - accuracy: 0.8206\n",
            "Epoch 143/160\n",
            "118/118 [==============================] - 1s 5ms/step - loss: 0.7260 - accuracy: 0.8218\n",
            "Epoch 144/160\n",
            "118/118 [==============================] - 1s 5ms/step - loss: 0.7216 - accuracy: 0.8225\n",
            "Epoch 145/160\n",
            "118/118 [==============================] - 1s 5ms/step - loss: 0.7173 - accuracy: 0.8235\n",
            "Epoch 146/160\n",
            "118/118 [==============================] - 1s 5ms/step - loss: 0.7130 - accuracy: 0.8246\n",
            "Epoch 147/160\n",
            "118/118 [==============================] - 1s 5ms/step - loss: 0.7088 - accuracy: 0.8259\n",
            "Epoch 148/160\n",
            "118/118 [==============================] - 1s 5ms/step - loss: 0.7047 - accuracy: 0.8269\n",
            "Epoch 149/160\n",
            "118/118 [==============================] - 1s 5ms/step - loss: 0.7006 - accuracy: 0.8275\n",
            "Epoch 150/160\n",
            "118/118 [==============================] - 1s 5ms/step - loss: 0.6966 - accuracy: 0.8285\n",
            "Epoch 151/160\n",
            "118/118 [==============================] - 1s 5ms/step - loss: 0.6926 - accuracy: 0.8296\n",
            "Epoch 152/160\n",
            "118/118 [==============================] - 1s 5ms/step - loss: 0.6887 - accuracy: 0.8304\n",
            "Epoch 153/160\n",
            "118/118 [==============================] - 1s 5ms/step - loss: 0.6849 - accuracy: 0.8313\n",
            "Epoch 154/160\n",
            "118/118 [==============================] - 1s 5ms/step - loss: 0.6811 - accuracy: 0.8322\n",
            "Epoch 155/160\n",
            "118/118 [==============================] - 1s 5ms/step - loss: 0.6774 - accuracy: 0.8331\n",
            "Epoch 156/160\n",
            "118/118 [==============================] - 1s 5ms/step - loss: 0.6737 - accuracy: 0.8339\n",
            "Epoch 157/160\n",
            "118/118 [==============================] - 1s 5ms/step - loss: 0.6701 - accuracy: 0.8351\n",
            "Epoch 158/160\n",
            "118/118 [==============================] - 1s 5ms/step - loss: 0.6665 - accuracy: 0.8359\n",
            "Epoch 159/160\n",
            "118/118 [==============================] - 1s 6ms/step - loss: 0.6629 - accuracy: 0.8366\n",
            "Epoch 160/160\n",
            "118/118 [==============================] - 1s 7ms/step - loss: 0.6595 - accuracy: 0.8376\n"
          ]
        },
        {
          "output_type": "execute_result",
          "data": {
            "text/plain": [
              "<keras.callbacks.History at 0x7f41e70b3e50>"
            ]
          },
          "metadata": {},
          "execution_count": 9
        }
      ]
    },
    {
      "cell_type": "code",
      "source": [
        "test_loss, test_acc = network.evaluate(test_images, test_labels)\n",
        "print('Test Accuracy: {:.5f} '.format(test_acc))\n",
        "test_acc\n"
      ],
      "metadata": {
        "colab": {
          "base_uri": "https://localhost:8080/"
        },
        "id": "6zwcfFTcqdX0",
        "outputId": "4e4a607d-25b2-4815-9caf-e8dd0ba41374"
      },
      "execution_count": 10,
      "outputs": [
        {
          "output_type": "stream",
          "name": "stdout",
          "text": [
            "313/313 [==============================] - 1s 2ms/step - loss: 0.6426 - accuracy: 0.8425\n",
            "Test Accuracy: 0.84250 \n"
          ]
        },
        {
          "output_type": "execute_result",
          "data": {
            "text/plain": [
              "0.8424999713897705"
            ]
          },
          "metadata": {},
          "execution_count": 10
        }
      ]
    },
    {
      "cell_type": "code",
      "source": [
        "from keras.utils import plot_model\n",
        "plot_model(network, to_file='model.png')\n",
        "import matplotlib.pyplot as plt\n",
        "history =network.fit(train_images, train_labels, validation_split=0.33,epochs=5, batch_size=512)\n",
        "history_dict = history.history\n",
        "print(history_dict.keys())\n",
        "plt.plot(history.history['accuracy'])\n",
        "plt.plot(history.history['val_accuracy'])\n",
        "plt.title('Model accuracy')\n",
        "plt.ylabel('Accuracy')\n",
        "plt.xlabel('Epoch')\n",
        "plt.legend(['Train', 'Test'], loc='upper left')\n",
        "plt.show()\n",
        "\n",
        "\n",
        "# Plot training & validation loss values\n",
        "plt.plot(history.history['loss'])\n",
        "plt.plot(history.history['val_loss'])\n",
        "plt.title('Model loss')\n",
        "plt.ylabel('Loss')\n",
        "plt.xlabel('Epoch')\n",
        "plt.legend(['Train', 'Test'], loc='upper left')\n",
        "plt.show()\n"
      ],
      "metadata": {
        "colab": {
          "base_uri": "https://localhost:8080/",
          "height": 764
        },
        "id": "PK97FyN9qmaz",
        "outputId": "928e2502-60df-48a3-a66c-614872373889"
      },
      "execution_count": 11,
      "outputs": [
        {
          "output_type": "stream",
          "name": "stdout",
          "text": [
            "Epoch 1/5\n",
            "79/79 [==============================] - 1s 17ms/step - loss: 0.6587 - accuracy: 0.8376 - val_loss: 0.6512 - val_accuracy: 0.8393\n",
            "Epoch 2/5\n",
            "79/79 [==============================] - 1s 13ms/step - loss: 0.6564 - accuracy: 0.8378 - val_loss: 0.6490 - val_accuracy: 0.8391\n",
            "Epoch 3/5\n",
            "79/79 [==============================] - 1s 11ms/step - loss: 0.6541 - accuracy: 0.8384 - val_loss: 0.6469 - val_accuracy: 0.8393\n",
            "Epoch 4/5\n",
            "79/79 [==============================] - 1s 13ms/step - loss: 0.6518 - accuracy: 0.8389 - val_loss: 0.6447 - val_accuracy: 0.8398\n",
            "Epoch 5/5\n",
            "79/79 [==============================] - 1s 11ms/step - loss: 0.6495 - accuracy: 0.8395 - val_loss: 0.6426 - val_accuracy: 0.8407\n",
            "dict_keys(['loss', 'accuracy', 'val_loss', 'val_accuracy'])\n"
          ]
        },
        {
          "output_type": "display_data",
          "data": {
            "text/plain": [
              "<Figure size 432x288 with 1 Axes>"
            ],
            "image/png": "[encoded data removed]"
          },
          "metadata": {
            "needs_background": "light"
          }
        },
        {
          "output_type": "display_data",
          "data": {
            "text/plain": [
              "<Figure size 432x288 with 1 Axes>"
            ],
            "image/png": "[encoded data removed]"
          },
          "metadata": {
            "needs_background": "light"
          }
        }
      ]
    },
    {
      "cell_type": "code",
      "source": [],
      "metadata": {
        "id": "P2Eelq0Ip_AL"
      },
      "execution_count": null,
      "outputs": []
    }
  ]
}